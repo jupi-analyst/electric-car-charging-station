{
 "cells": [
  {
   "cell_type": "markdown",
   "metadata": {},
   "source": [
    "## 파일명 및 경로 지정"
   ]
  },
  {
   "cell_type": "code",
   "execution_count": 16,
   "metadata": {},
   "outputs": [],
   "source": [
    "건물셋 = 'C:\\\\Users\\\\USER\\Desktop\\\\제주전기차_수정\\\\Z_KAIS_TL_SPBD_BULD_제주\\\\건물_위경도.csv'\n",
    "가점척도 = 'C:\\\\Users\\\\USER\\Desktop\\\\제주전기차_수정\\\\건물가점_전처리.csv'"
   ]
  },
  {
   "cell_type": "markdown",
   "metadata": {},
   "source": [
    "## 데이터 및 패키지 로드 후 컬럼명 수정"
   ]
  },
  {
   "cell_type": "code",
   "execution_count": 17,
   "metadata": {},
   "outputs": [
    {
     "data": {
      "text/html": [
       "<div>\n",
       "<style scoped>\n",
       "    .dataframe tbody tr th:only-of-type {\n",
       "        vertical-align: middle;\n",
       "    }\n",
       "\n",
       "    .dataframe tbody tr th {\n",
       "        vertical-align: top;\n",
       "    }\n",
       "\n",
       "    .dataframe thead th {\n",
       "        text-align: right;\n",
       "    }\n",
       "</style>\n",
       "<table border=\"1\" class=\"dataframe\">\n",
       "  <thead>\n",
       "    <tr style=\"text-align: right;\">\n",
       "      <th></th>\n",
       "      <th>건물용도코드</th>\n",
       "      <th>BD_MGT_SN</th>\n",
       "      <th>BSI_INT_SN</th>\n",
       "      <th>BSI_ZON_NO</th>\n",
       "      <th>BULD_MNNM</th>\n",
       "      <th>BULD_NM</th>\n",
       "      <th>BULD_NM_DC</th>\n",
       "      <th>BULD_SE_CD</th>\n",
       "      <th>BULD_SLNO</th>\n",
       "      <th>BUL_DPN_SE</th>\n",
       "      <th>...</th>\n",
       "      <th>NTFC_DE</th>\n",
       "      <th>OPERT_DE</th>\n",
       "      <th>POS_BUL_NM</th>\n",
       "      <th>RDS_MAN_NO</th>\n",
       "      <th>RDS_SIG_CD</th>\n",
       "      <th>RN_CD</th>\n",
       "      <th>SIG_CD</th>\n",
       "      <th>UND_FLO_CO</th>\n",
       "      <th>lon</th>\n",
       "      <th>lat</th>\n",
       "    </tr>\n",
       "  </thead>\n",
       "  <tbody>\n",
       "    <tr>\n",
       "      <th>0</th>\n",
       "      <td>14001</td>\n",
       "      <td>5011031021132600001000001</td>\n",
       "      <td>75013</td>\n",
       "      <td>63007</td>\n",
       "      <td>2</td>\n",
       "      <td>NaN</td>\n",
       "      <td>NaN</td>\n",
       "      <td>0</td>\n",
       "      <td>0</td>\n",
       "      <td>M</td>\n",
       "      <td>...</td>\n",
       "      <td>20150512.0</td>\n",
       "      <td>2.015051e+13</td>\n",
       "      <td>NaN</td>\n",
       "      <td>1837</td>\n",
       "      <td>50110</td>\n",
       "      <td>3020001</td>\n",
       "      <td>50110</td>\n",
       "      <td>0</td>\n",
       "      <td>126.233194</td>\n",
       "      <td>33.293186</td>\n",
       "    </tr>\n",
       "    <tr>\n",
       "      <th>1</th>\n",
       "      <td>14001</td>\n",
       "      <td>5011031021132600001000002</td>\n",
       "      <td>75013</td>\n",
       "      <td>63007</td>\n",
       "      <td>2</td>\n",
       "      <td>NaN</td>\n",
       "      <td>NaN</td>\n",
       "      <td>0</td>\n",
       "      <td>0</td>\n",
       "      <td>M</td>\n",
       "      <td>...</td>\n",
       "      <td>20150512.0</td>\n",
       "      <td>2.015051e+13</td>\n",
       "      <td>NaN</td>\n",
       "      <td>1837</td>\n",
       "      <td>50110</td>\n",
       "      <td>3020001</td>\n",
       "      <td>50110</td>\n",
       "      <td>0</td>\n",
       "      <td>126.233407</td>\n",
       "      <td>33.293197</td>\n",
       "    </tr>\n",
       "  </tbody>\n",
       "</table>\n",
       "<p>2 rows × 32 columns</p>\n",
       "</div>"
      ],
      "text/plain": [
       "   건물용도코드                  BD_MGT_SN  BSI_INT_SN  BSI_ZON_NO  BULD_MNNM  \\\n",
       "0   14001  5011031021132600001000001       75013       63007          2   \n",
       "1   14001  5011031021132600001000002       75013       63007          2   \n",
       "\n",
       "  BULD_NM BULD_NM_DC  BULD_SE_CD  BULD_SLNO BUL_DPN_SE  ...     NTFC_DE  \\\n",
       "0     NaN        NaN           0          0          M  ...  20150512.0   \n",
       "1     NaN        NaN           0          0          M  ...  20150512.0   \n",
       "\n",
       "       OPERT_DE  POS_BUL_NM  RDS_MAN_NO  RDS_SIG_CD    RN_CD  SIG_CD  \\\n",
       "0  2.015051e+13         NaN        1837       50110  3020001   50110   \n",
       "1  2.015051e+13         NaN        1837       50110  3020001   50110   \n",
       "\n",
       "   UND_FLO_CO         lon        lat  \n",
       "0           0  126.233194  33.293186  \n",
       "1           0  126.233407  33.293197  \n",
       "\n",
       "[2 rows x 32 columns]"
      ]
     },
     "metadata": {},
     "output_type": "display_data"
    }
   ],
   "source": [
    "import pandas as pd\n",
    "\n",
    "건물 = pd.read_csv(f'{건물셋}', header = 0, encoding = 'cp949')\n",
    "가점 = pd.read_csv(f'{가점척도}', header = 0, encoding = 'cp949')\n",
    "건물.rename(columns = {'BDTYP_CD' : '건물용도코드'}, inplace = True)\n",
    "건물.rename(columns = {'BUL_MAN_NO': '건물일련번호'}, inplace = True)\n",
    "display(건물.head(2))"
   ]
  },
  {
   "cell_type": "markdown",
   "metadata": {},
   "source": [
    "## 건물용도코드에 따라 가점척도 부여 및 불필요 컬럼 제거"
   ]
  },
  {
   "cell_type": "code",
   "execution_count": 18,
   "metadata": {},
   "outputs": [
    {
     "data": {
      "text/html": [
       "<div>\n",
       "<style scoped>\n",
       "    .dataframe tbody tr th:only-of-type {\n",
       "        vertical-align: middle;\n",
       "    }\n",
       "\n",
       "    .dataframe tbody tr th {\n",
       "        vertical-align: top;\n",
       "    }\n",
       "\n",
       "    .dataframe thead th {\n",
       "        text-align: right;\n",
       "    }\n",
       "</style>\n",
       "<table border=\"1\" class=\"dataframe\">\n",
       "  <thead>\n",
       "    <tr style=\"text-align: right;\">\n",
       "      <th></th>\n",
       "      <th>건물용도코드</th>\n",
       "      <th>건물종류</th>\n",
       "      <th>건물일련번호</th>\n",
       "      <th>가점척도</th>\n",
       "      <th>lon</th>\n",
       "      <th>lat</th>\n",
       "    </tr>\n",
       "  </thead>\n",
       "  <tbody>\n",
       "    <tr>\n",
       "      <th>0</th>\n",
       "      <td>14001</td>\n",
       "      <td>창고</td>\n",
       "      <td>143095</td>\n",
       "      <td>1</td>\n",
       "      <td>126.233194</td>\n",
       "      <td>33.293186</td>\n",
       "    </tr>\n",
       "    <tr>\n",
       "      <th>1</th>\n",
       "      <td>14001</td>\n",
       "      <td>창고</td>\n",
       "      <td>143096</td>\n",
       "      <td>1</td>\n",
       "      <td>126.233407</td>\n",
       "      <td>33.293197</td>\n",
       "    </tr>\n",
       "  </tbody>\n",
       "</table>\n",
       "</div>"
      ],
      "text/plain": [
       "   건물용도코드 건물종류  건물일련번호  가점척도         lon        lat\n",
       "0   14001   창고  143095     1  126.233194  33.293186\n",
       "1   14001   창고  143096     1  126.233407  33.293197"
      ]
     },
     "execution_count": 18,
     "metadata": {},
     "output_type": "execute_result"
    }
   ],
   "source": [
    "merged = 건물.merge(가점, on = '건물용도코드')\n",
    "merged = merged[['건물용도코드', '건물종류', '건물일련번호', '가점척도', 'lon', 'lat']]\n",
    "merged.head(2)"
   ]
  },
  {
   "cell_type": "markdown",
   "metadata": {},
   "source": [
    "## 가점척도별 데이터 분류 및 csv파일로 추출"
   ]
  },
  {
   "cell_type": "code",
   "execution_count": 19,
   "metadata": {
    "scrolled": false
   },
   "outputs": [
    {
     "data": {
      "text/html": [
       "<div>\n",
       "<style scoped>\n",
       "    .dataframe tbody tr th:only-of-type {\n",
       "        vertical-align: middle;\n",
       "    }\n",
       "\n",
       "    .dataframe tbody tr th {\n",
       "        vertical-align: top;\n",
       "    }\n",
       "\n",
       "    .dataframe thead th {\n",
       "        text-align: right;\n",
       "    }\n",
       "</style>\n",
       "<table border=\"1\" class=\"dataframe\">\n",
       "  <thead>\n",
       "    <tr style=\"text-align: right;\">\n",
       "      <th></th>\n",
       "      <th>건물용도코드</th>\n",
       "      <th>건물종류</th>\n",
       "      <th>건물일련번호</th>\n",
       "      <th>가점척도</th>\n",
       "      <th>lon</th>\n",
       "      <th>lat</th>\n",
       "    </tr>\n",
       "  </thead>\n",
       "  <tbody>\n",
       "    <tr>\n",
       "      <th>184732</th>\n",
       "      <td>3021</td>\n",
       "      <td>마을공회당</td>\n",
       "      <td>73356</td>\n",
       "      <td>0</td>\n",
       "      <td>126.233771</td>\n",
       "      <td>33.292718</td>\n",
       "    </tr>\n",
       "  </tbody>\n",
       "</table>\n",
       "</div>"
      ],
      "text/plain": [
       "        건물용도코드   건물종류  건물일련번호  가점척도         lon        lat\n",
       "184732    3021  마을공회당   73356     0  126.233771  33.292718"
      ]
     },
     "metadata": {},
     "output_type": "display_data"
    },
    {
     "data": {
      "text/html": [
       "<div>\n",
       "<style scoped>\n",
       "    .dataframe tbody tr th:only-of-type {\n",
       "        vertical-align: middle;\n",
       "    }\n",
       "\n",
       "    .dataframe tbody tr th {\n",
       "        vertical-align: top;\n",
       "    }\n",
       "\n",
       "    .dataframe thead th {\n",
       "        text-align: right;\n",
       "    }\n",
       "</style>\n",
       "<table border=\"1\" class=\"dataframe\">\n",
       "  <thead>\n",
       "    <tr style=\"text-align: right;\">\n",
       "      <th></th>\n",
       "      <th>건물용도코드</th>\n",
       "      <th>건물종류</th>\n",
       "      <th>건물일련번호</th>\n",
       "      <th>가점척도</th>\n",
       "      <th>lon</th>\n",
       "      <th>lat</th>\n",
       "    </tr>\n",
       "  </thead>\n",
       "  <tbody>\n",
       "    <tr>\n",
       "      <th>0</th>\n",
       "      <td>14001</td>\n",
       "      <td>창고</td>\n",
       "      <td>143095</td>\n",
       "      <td>1</td>\n",
       "      <td>126.233194</td>\n",
       "      <td>33.293186</td>\n",
       "    </tr>\n",
       "  </tbody>\n",
       "</table>\n",
       "</div>"
      ],
      "text/plain": [
       "   건물용도코드 건물종류  건물일련번호  가점척도         lon        lat\n",
       "0   14001   창고  143095     1  126.233194  33.293186"
      ]
     },
     "metadata": {},
     "output_type": "display_data"
    },
    {
     "data": {
      "text/html": [
       "<div>\n",
       "<style scoped>\n",
       "    .dataframe tbody tr th:only-of-type {\n",
       "        vertical-align: middle;\n",
       "    }\n",
       "\n",
       "    .dataframe tbody tr th {\n",
       "        vertical-align: top;\n",
       "    }\n",
       "\n",
       "    .dataframe thead th {\n",
       "        text-align: right;\n",
       "    }\n",
       "</style>\n",
       "<table border=\"1\" class=\"dataframe\">\n",
       "  <thead>\n",
       "    <tr style=\"text-align: right;\">\n",
       "      <th></th>\n",
       "      <th>건물용도코드</th>\n",
       "      <th>건물종류</th>\n",
       "      <th>건물일련번호</th>\n",
       "      <th>가점척도</th>\n",
       "      <th>lon</th>\n",
       "      <th>lat</th>\n",
       "    </tr>\n",
       "  </thead>\n",
       "  <tbody>\n",
       "    <tr>\n",
       "      <th>184976</th>\n",
       "      <td>3108</td>\n",
       "      <td>보건소</td>\n",
       "      <td>73331</td>\n",
       "      <td>2</td>\n",
       "      <td>126.234153</td>\n",
       "      <td>33.292819</td>\n",
       "    </tr>\n",
       "  </tbody>\n",
       "</table>\n",
       "</div>"
      ],
      "text/plain": [
       "        건물용도코드 건물종류  건물일련번호  가점척도         lon        lat\n",
       "184976    3108  보건소   73331     2  126.234153  33.292819"
      ]
     },
     "metadata": {},
     "output_type": "display_data"
    },
    {
     "data": {
      "text/html": [
       "<div>\n",
       "<style scoped>\n",
       "    .dataframe tbody tr th:only-of-type {\n",
       "        vertical-align: middle;\n",
       "    }\n",
       "\n",
       "    .dataframe tbody tr th {\n",
       "        vertical-align: top;\n",
       "    }\n",
       "\n",
       "    .dataframe thead th {\n",
       "        text-align: right;\n",
       "    }\n",
       "</style>\n",
       "<table border=\"1\" class=\"dataframe\">\n",
       "  <thead>\n",
       "    <tr style=\"text-align: right;\">\n",
       "      <th></th>\n",
       "      <th>건물용도코드</th>\n",
       "      <th>건물종류</th>\n",
       "      <th>건물일련번호</th>\n",
       "      <th>가점척도</th>\n",
       "      <th>lon</th>\n",
       "      <th>lat</th>\n",
       "    </tr>\n",
       "  </thead>\n",
       "  <tbody>\n",
       "    <tr>\n",
       "      <th>222485</th>\n",
       "      <td>6203</td>\n",
       "      <td>대형판매점</td>\n",
       "      <td>1174</td>\n",
       "      <td>3</td>\n",
       "      <td>126.480432</td>\n",
       "      <td>33.484965</td>\n",
       "    </tr>\n",
       "  </tbody>\n",
       "</table>\n",
       "</div>"
      ],
      "text/plain": [
       "        건물용도코드   건물종류  건물일련번호  가점척도         lon        lat\n",
       "222485    6203  대형판매점    1174     3  126.480432  33.484965"
      ]
     },
     "metadata": {},
     "output_type": "display_data"
    },
    {
     "name": "stdout",
     "output_type": "stream",
     "text": [
      "0점 건물수: 13900\n",
      "1점 건물수: 207584\n",
      "2점 건물수: 13824\n",
      "3점 건물수: 2260\n"
     ]
    }
   ],
   "source": [
    "가점갯수 = len(merged['가점척도'].unique())\n",
    "bd = [None] * 가점갯수\n",
    "\n",
    "for i in range(가점갯수):\n",
    "    bd[i] = merged[merged['가점척도'] == i]\n",
    "    bd[i].to_csv(f'C:\\\\Users\\\\USER\\Desktop\\\\제주전기차_수정\\\\Z_KAIS_TL_SPBD_BULD_제주\\\\건물{i}.csv',\n",
    "                 index = False, sep = ',', encoding = 'cp949')\n",
    "    display(bd[i].iloc[[0]])\n",
    "\n",
    "for i in range(가점갯수):\n",
    "    print(f'{i}점 건물수:', len(bd[i]))"
   ]
  },
  {
   "cell_type": "code",
   "execution_count": null,
   "metadata": {},
   "outputs": [],
   "source": []
  },
  {
   "cell_type": "code",
   "execution_count": null,
   "metadata": {},
   "outputs": [],
   "source": []
  }
 ],
 "metadata": {
  "kernelspec": {
   "display_name": "Python 3",
   "language": "python",
   "name": "python3"
  },
  "language_info": {
   "codemirror_mode": {
    "name": "ipython",
    "version": 3
   },
   "file_extension": ".py",
   "mimetype": "text/x-python",
   "name": "python",
   "nbconvert_exporter": "python",
   "pygments_lexer": "ipython3",
   "version": "3.8.3"
  }
 },
 "nbformat": 4,
 "nbformat_minor": 4
}
