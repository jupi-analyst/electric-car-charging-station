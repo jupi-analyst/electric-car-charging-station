{
 "cells": [
  {
   "cell_type": "markdown",
   "metadata": {},
   "source": [
    "# 거리계산(계산하는데에 시간이 오래걸림)"
   ]
  },
  {
   "cell_type": "code",
   "execution_count": 2,
   "metadata": {},
   "outputs": [
    {
     "data": {
      "text/html": [
       "<div>\n",
       "<style scoped>\n",
       "    .dataframe tbody tr th:only-of-type {\n",
       "        vertical-align: middle;\n",
       "    }\n",
       "\n",
       "    .dataframe tbody tr th {\n",
       "        vertical-align: top;\n",
       "    }\n",
       "\n",
       "    .dataframe thead th {\n",
       "        text-align: right;\n",
       "    }\n",
       "</style>\n",
       "<table border=\"1\" class=\"dataframe\">\n",
       "  <thead>\n",
       "    <tr style=\"text-align: right;\">\n",
       "      <th></th>\n",
       "      <th>gid</th>\n",
       "      <th>주차장</th>\n",
       "      <th>건물1</th>\n",
       "      <th>건물2</th>\n",
       "      <th>건물3</th>\n",
       "      <th>관공서</th>\n",
       "      <th>생산가능인구</th>\n",
       "      <th>전기차</th>\n",
       "      <th>충전소</th>\n",
       "      <th>lon</th>\n",
       "      <th>lat</th>\n",
       "    </tr>\n",
       "  </thead>\n",
       "  <tbody>\n",
       "    <tr>\n",
       "      <th>0</th>\n",
       "      <td>다다50bb02ba</td>\n",
       "      <td>NaN</td>\n",
       "      <td>0</td>\n",
       "      <td>0</td>\n",
       "      <td>0</td>\n",
       "      <td>0</td>\n",
       "      <td>NaN</td>\n",
       "      <td>0</td>\n",
       "      <td>0</td>\n",
       "      <td>126.971038</td>\n",
       "      <td>33.514392</td>\n",
       "    </tr>\n",
       "    <tr>\n",
       "      <th>1</th>\n",
       "      <td>다다50bb01aa</td>\n",
       "      <td>NaN</td>\n",
       "      <td>0</td>\n",
       "      <td>0</td>\n",
       "      <td>0</td>\n",
       "      <td>0</td>\n",
       "      <td>NaN</td>\n",
       "      <td>0</td>\n",
       "      <td>0</td>\n",
       "      <td>126.971120</td>\n",
       "      <td>33.500863</td>\n",
       "    </tr>\n",
       "    <tr>\n",
       "      <th>2</th>\n",
       "      <td>다다50bb00bb</td>\n",
       "      <td>NaN</td>\n",
       "      <td>0</td>\n",
       "      <td>0</td>\n",
       "      <td>0</td>\n",
       "      <td>0</td>\n",
       "      <td>NaN</td>\n",
       "      <td>0</td>\n",
       "      <td>0</td>\n",
       "      <td>126.971134</td>\n",
       "      <td>33.498608</td>\n",
       "    </tr>\n",
       "  </tbody>\n",
       "</table>\n",
       "</div>"
      ],
      "text/plain": [
       "          gid  주차장  건물1  건물2  건물3  관공서  생산가능인구  전기차  충전소         lon  \\\n",
       "0  다다50bb02ba  NaN    0    0    0    0     NaN    0    0  126.971038   \n",
       "1  다다50bb01aa  NaN    0    0    0    0     NaN    0    0  126.971120   \n",
       "2  다다50bb00bb  NaN    0    0    0    0     NaN    0    0  126.971134   \n",
       "\n",
       "         lat  \n",
       "0  33.514392  \n",
       "1  33.500863  \n",
       "2  33.498608  "
      ]
     },
     "execution_count": 2,
     "metadata": {},
     "output_type": "execute_result"
    }
   ],
   "source": [
    "import pandas as pd\n",
    "import numpy as np\n",
    "from haversine import haversine\n",
    "\n",
    "distance = pd.read_csv('C:\\\\Users\\\\USER\\\\Desktop\\\\제주전기차_수정\\\\전처리데이터.csv', engine = 'python', encoding = 'euc-kr').copy()\n",
    "distance.head(3)"
   ]
  },
  {
   "cell_type": "markdown",
   "metadata": {},
   "source": [
    "## NULL값 0으로 치환 후, 새로운 컬럼 생성"
   ]
  },
  {
   "cell_type": "code",
   "execution_count": 3,
   "metadata": {},
   "outputs": [
    {
     "data": {
      "text/html": [
       "<div>\n",
       "<style scoped>\n",
       "    .dataframe tbody tr th:only-of-type {\n",
       "        vertical-align: middle;\n",
       "    }\n",
       "\n",
       "    .dataframe tbody tr th {\n",
       "        vertical-align: top;\n",
       "    }\n",
       "\n",
       "    .dataframe thead th {\n",
       "        text-align: right;\n",
       "    }\n",
       "</style>\n",
       "<table border=\"1\" class=\"dataframe\">\n",
       "  <thead>\n",
       "    <tr style=\"text-align: right;\">\n",
       "      <th></th>\n",
       "      <th>gid</th>\n",
       "      <th>주차장</th>\n",
       "      <th>건물1</th>\n",
       "      <th>건물2</th>\n",
       "      <th>건물3</th>\n",
       "      <th>관공서</th>\n",
       "      <th>생산가능인구</th>\n",
       "      <th>전기차</th>\n",
       "      <th>충전소</th>\n",
       "      <th>lon</th>\n",
       "      <th>lat</th>\n",
       "      <th>거리_전기차</th>\n",
       "      <th>거리_충전소</th>\n",
       "    </tr>\n",
       "  </thead>\n",
       "  <tbody>\n",
       "    <tr>\n",
       "      <th>30523</th>\n",
       "      <td>나나74ab80ab</td>\n",
       "      <td>0.0</td>\n",
       "      <td>0</td>\n",
       "      <td>0</td>\n",
       "      <td>0</td>\n",
       "      <td>0</td>\n",
       "      <td>0.0</td>\n",
       "      <td>0</td>\n",
       "      <td>0</td>\n",
       "      <td>126.150556</td>\n",
       "      <td>33.307503</td>\n",
       "      <td>0</td>\n",
       "      <td>0</td>\n",
       "    </tr>\n",
       "    <tr>\n",
       "      <th>30524</th>\n",
       "      <td>나나74aa80bb</td>\n",
       "      <td>0.0</td>\n",
       "      <td>0</td>\n",
       "      <td>0</td>\n",
       "      <td>0</td>\n",
       "      <td>0</td>\n",
       "      <td>0.0</td>\n",
       "      <td>0</td>\n",
       "      <td>0</td>\n",
       "      <td>126.147801</td>\n",
       "      <td>33.311982</td>\n",
       "      <td>0</td>\n",
       "      <td>0</td>\n",
       "    </tr>\n",
       "    <tr>\n",
       "      <th>30525</th>\n",
       "      <td>나나74aa80ba</td>\n",
       "      <td>0.0</td>\n",
       "      <td>0</td>\n",
       "      <td>0</td>\n",
       "      <td>0</td>\n",
       "      <td>0</td>\n",
       "      <td>0.0</td>\n",
       "      <td>0</td>\n",
       "      <td>0</td>\n",
       "      <td>126.147836</td>\n",
       "      <td>33.309728</td>\n",
       "      <td>0</td>\n",
       "      <td>0</td>\n",
       "    </tr>\n",
       "    <tr>\n",
       "      <th>30526</th>\n",
       "      <td>나나73bb80bb</td>\n",
       "      <td>0.0</td>\n",
       "      <td>0</td>\n",
       "      <td>0</td>\n",
       "      <td>0</td>\n",
       "      <td>0</td>\n",
       "      <td>0.0</td>\n",
       "      <td>0</td>\n",
       "      <td>0</td>\n",
       "      <td>126.145116</td>\n",
       "      <td>33.311953</td>\n",
       "      <td>0</td>\n",
       "      <td>0</td>\n",
       "    </tr>\n",
       "    <tr>\n",
       "      <th>30527</th>\n",
       "      <td>나나73bb80ba</td>\n",
       "      <td>0.0</td>\n",
       "      <td>0</td>\n",
       "      <td>0</td>\n",
       "      <td>0</td>\n",
       "      <td>0</td>\n",
       "      <td>0.0</td>\n",
       "      <td>0</td>\n",
       "      <td>0</td>\n",
       "      <td>126.145151</td>\n",
       "      <td>33.309699</td>\n",
       "      <td>0</td>\n",
       "      <td>0</td>\n",
       "    </tr>\n",
       "  </tbody>\n",
       "</table>\n",
       "</div>"
      ],
      "text/plain": [
       "              gid  주차장  건물1  건물2  건물3  관공서  생산가능인구  전기차  충전소         lon  \\\n",
       "30523  나나74ab80ab  0.0    0    0    0    0     0.0    0    0  126.150556   \n",
       "30524  나나74aa80bb  0.0    0    0    0    0     0.0    0    0  126.147801   \n",
       "30525  나나74aa80ba  0.0    0    0    0    0     0.0    0    0  126.147836   \n",
       "30526  나나73bb80bb  0.0    0    0    0    0     0.0    0    0  126.145116   \n",
       "30527  나나73bb80ba  0.0    0    0    0    0     0.0    0    0  126.145151   \n",
       "\n",
       "             lat  거리_전기차  거리_충전소  \n",
       "30523  33.307503       0       0  \n",
       "30524  33.311982       0       0  \n",
       "30525  33.309728       0       0  \n",
       "30526  33.311953       0       0  \n",
       "30527  33.309699       0       0  "
      ]
     },
     "execution_count": 3,
     "metadata": {},
     "output_type": "execute_result"
    }
   ],
   "source": [
    "distance.fillna(0, inplace= True)\n",
    "distance['거리_전기차']= 0\n",
    "distance['거리_충전소'] = 0\n",
    "distance.tail(5)"
   ]
  },
  {
   "cell_type": "markdown",
   "metadata": {},
   "source": [
    "## 전기차 값이 0 이 아닌 데이터만 따로 추출 및 저장 (전기차 데이터 아직 없음)"
   ]
  },
  {
   "cell_type": "code",
   "execution_count": 5,
   "metadata": {},
   "outputs": [
    {
     "data": {
      "text/html": [
       "<div>\n",
       "<style scoped>\n",
       "    .dataframe tbody tr th:only-of-type {\n",
       "        vertical-align: middle;\n",
       "    }\n",
       "\n",
       "    .dataframe tbody tr th {\n",
       "        vertical-align: top;\n",
       "    }\n",
       "\n",
       "    .dataframe thead th {\n",
       "        text-align: right;\n",
       "    }\n",
       "</style>\n",
       "<table border=\"1\" class=\"dataframe\">\n",
       "  <thead>\n",
       "    <tr style=\"text-align: right;\">\n",
       "      <th></th>\n",
       "      <th>gid</th>\n",
       "      <th>주차장</th>\n",
       "      <th>건물1</th>\n",
       "      <th>건물2</th>\n",
       "      <th>건물3</th>\n",
       "      <th>관공서</th>\n",
       "      <th>생산가능인구</th>\n",
       "      <th>전기차</th>\n",
       "      <th>충전소</th>\n",
       "      <th>lon</th>\n",
       "      <th>lat</th>\n",
       "      <th>거리_전기차</th>\n",
       "      <th>거리_충전소</th>\n",
       "    </tr>\n",
       "  </thead>\n",
       "  <tbody>\n",
       "    <tr>\n",
       "      <th>30488</th>\n",
       "      <td>나나75bb78aa</td>\n",
       "      <td>0.0</td>\n",
       "      <td>0</td>\n",
       "      <td>0</td>\n",
       "      <td>0</td>\n",
       "      <td>0</td>\n",
       "      <td>24.0</td>\n",
       "      <td>1</td>\n",
       "      <td>0</td>\n",
       "      <td>126.166973</td>\n",
       "      <td>33.287387</td>\n",
       "      <td>0</td>\n",
       "      <td>0</td>\n",
       "    </tr>\n",
       "    <tr>\n",
       "      <th>30494</th>\n",
       "      <td>나나75ba82ba</td>\n",
       "      <td>0.0</td>\n",
       "      <td>0</td>\n",
       "      <td>0</td>\n",
       "      <td>0</td>\n",
       "      <td>0</td>\n",
       "      <td>0.0</td>\n",
       "      <td>1</td>\n",
       "      <td>0</td>\n",
       "      <td>126.163670</td>\n",
       "      <td>33.327937</td>\n",
       "      <td>0</td>\n",
       "      <td>0</td>\n",
       "    </tr>\n",
       "    <tr>\n",
       "      <th>30498</th>\n",
       "      <td>나나75ba80ba</td>\n",
       "      <td>0.0</td>\n",
       "      <td>0</td>\n",
       "      <td>0</td>\n",
       "      <td>0</td>\n",
       "      <td>0</td>\n",
       "      <td>6.0</td>\n",
       "      <td>1</td>\n",
       "      <td>0</td>\n",
       "      <td>126.163946</td>\n",
       "      <td>33.309902</td>\n",
       "      <td>0</td>\n",
       "      <td>0</td>\n",
       "    </tr>\n",
       "    <tr>\n",
       "      <th>30499</th>\n",
       "      <td>나나75ba80ab</td>\n",
       "      <td>0.0</td>\n",
       "      <td>0</td>\n",
       "      <td>0</td>\n",
       "      <td>0</td>\n",
       "      <td>0</td>\n",
       "      <td>18.0</td>\n",
       "      <td>3</td>\n",
       "      <td>2</td>\n",
       "      <td>126.163980</td>\n",
       "      <td>33.307648</td>\n",
       "      <td>0</td>\n",
       "      <td>0</td>\n",
       "    </tr>\n",
       "    <tr>\n",
       "      <th>30507</th>\n",
       "      <td>나나75ba77bb</td>\n",
       "      <td>0.0</td>\n",
       "      <td>0</td>\n",
       "      <td>0</td>\n",
       "      <td>0</td>\n",
       "      <td>0</td>\n",
       "      <td>0.0</td>\n",
       "      <td>1</td>\n",
       "      <td>0</td>\n",
       "      <td>126.164324</td>\n",
       "      <td>33.285104</td>\n",
       "      <td>0</td>\n",
       "      <td>0</td>\n",
       "    </tr>\n",
       "  </tbody>\n",
       "</table>\n",
       "</div>"
      ],
      "text/plain": [
       "              gid  주차장  건물1  건물2  건물3  관공서  생산가능인구  전기차  충전소         lon  \\\n",
       "30488  나나75bb78aa  0.0    0    0    0    0    24.0    1    0  126.166973   \n",
       "30494  나나75ba82ba  0.0    0    0    0    0     0.0    1    0  126.163670   \n",
       "30498  나나75ba80ba  0.0    0    0    0    0     6.0    1    0  126.163946   \n",
       "30499  나나75ba80ab  0.0    0    0    0    0    18.0    3    2  126.163980   \n",
       "30507  나나75ba77bb  0.0    0    0    0    0     0.0    1    0  126.164324   \n",
       "\n",
       "             lat  거리_전기차  거리_충전소  \n",
       "30488  33.287387       0       0  \n",
       "30494  33.327937       0       0  \n",
       "30498  33.309902       0       0  \n",
       "30499  33.307648       0       0  \n",
       "30507  33.285104       0       0  "
      ]
     },
     "execution_count": 5,
     "metadata": {},
     "output_type": "execute_result"
    }
   ],
   "source": [
    "distance2 = distance[distance['전기차']!=0].copy()\n",
    "distance2.tail(5)"
   ]
  },
  {
   "cell_type": "markdown",
   "metadata": {},
   "source": [
    "## 거리 계산 및 컬럼에 표시"
   ]
  },
  {
   "cell_type": "code",
   "execution_count": null,
   "metadata": {},
   "outputs": [],
   "source": [
    "for i in range(0, len(distance)):\n",
    "    for j in range(0, len(distance2)):\n",
    "        lon = distance['lon'][i]\n",
    "        lat = distance['lat'][i]\n",
    "        lon2 = distance2['lon'].reset_index(drop=True)[j]\n",
    "        lat2 = distance2['lat'].reset_index(drop=True)[j]\n",
    "        a = (lat, lon)\n",
    "        b = (lat2, lon2)\n",
    "        c= haversine(a, b) * 1000\n",
    "        # 500m 내 모든 격자에 표시, 거리는 분석 목적에 따라 조절\n",
    "        if c <= 500:\n",
    "            distance['거리_전기차'].copy()[i] = 1"
   ]
  },
  {
   "cell_type": "markdown",
   "metadata": {},
   "source": [
    "## 충전소 값이 0이 아닌 데이터만 따로 추출 및 저장"
   ]
  },
  {
   "cell_type": "code",
   "execution_count": null,
   "metadata": {},
   "outputs": [],
   "source": [
    "distance3 = distance[distance['충전소']!=0]\n",
    "distance3.tail(5)"
   ]
  },
  {
   "cell_type": "code",
   "execution_count": null,
   "metadata": {},
   "outputs": [],
   "source": [
    "# 무시\n",
    "#pd.set_option('mode.chained_assignment',  None) # <==== 경고를 끈다\n",
    "for i in range(0, len(distance)):\n",
    "    for j in range(0, len(distance3)):\n",
    "        lon = distance['lon'][i]\n",
    "        lat = distance['lat'][i]\n",
    "        lon2 = distance3['lon'].reset_index(drop=True)[j]\n",
    "        lat2 = distance3['lat'].reset_index(drop=True)[j]\n",
    "        a = (lat, lon)\n",
    "        b = (lat2, lon2)\n",
    "        c = haversine(a, b) * 1000\n",
    "        # 500m 내 모든 격자에 표시, 거리는 분석 목적에 따라 조절\n",
    "        if c <= 500:\n",
    "            # distance_df = distance['거리_충전소'].copy()\n",
    "            # distance_df['거리_충전소'][i] = 1 \n",
    "            distance['거리_충전소'][i] = 1"
   ]
  },
  {
   "cell_type": "code",
   "execution_count": null,
   "metadata": {},
   "outputs": [],
   "source": []
  },
  {
   "cell_type": "markdown",
   "metadata": {},
   "source": [
    "## 교통량 값이 0이 아닌 데이터만 따로 추출 및 저장"
   ]
  },
  {
   "cell_type": "code",
   "execution_count": null,
   "metadata": {},
   "outputs": [],
   "source": [
    "distance4 = distance[distance['교통량']!=0]\n",
    "distance4.head(5)"
   ]
  },
  {
   "cell_type": "code",
   "execution_count": null,
   "metadata": {},
   "outputs": [],
   "source": [
    "for i in range(0, len(distance)):\n",
    "    for j in range(0, len(distance4)):\n",
    "        lon = distance['lat'][i]\n",
    "        lat = distance['lon'][i]\n",
    "        lon2 = distance4['lat'].reset_index(drop=True)[j]\n",
    "        lat2 = distance4['lon'].reset_index(drop=True)[j]\n",
    "        a = (lat, lon)\n",
    "        b = (lat2, lon2)\n",
    "        c= haversine(a, b) * 1000\n",
    "        # 500m 내 모든 격자에 표시, 거리는 분석 목적에 따라 조절\n",
    "        if c <= 500:\n",
    "            distance['거리_교통량'][i] = 1"
   ]
  },
  {
   "cell_type": "code",
   "execution_count": null,
   "metadata": {},
   "outputs": [],
   "source": [
    "distance.head(5)\n",
    "distance.tail(5)\n",
    "distance.to_csv('C:\\\\Users\\\\USER\\\\Desktop\\\\제주전기차\\\\결과물\\\\전처리데이터2.csv', header = True, index = False, sep = ',', encoding = 'cpc949')"
   ]
  },
  {
   "cell_type": "markdown",
   "metadata": {},
   "source": [
    "# 변수 산정"
   ]
  },
  {
   "cell_type": "code",
   "execution_count": null,
   "metadata": {},
   "outputs": [],
   "source": [
    "전처리데이터셋 = 'C:\\\\Users\\\\USER\\\\Desktop\\\\제주전기차\\\\결과물\\\\전처리데이터2.csv'"
   ]
  },
  {
   "cell_type": "code",
   "execution_count": null,
   "metadata": {},
   "outputs": [],
   "source": [
    "import pandas as pd\n",
    "df = pd.read_csv(f'{전처리데이터셋}', header = 0, encoding = 'cp949', engine = 'python')\n",
    "df.set_index('gid', inplace = True)\n",
    "전체컬럼 = df.columns.tolist()\n",
    "print('여기 컬럼명을 확인하신 후 점수계산에 필요한 컬럼명만 복사 하세요. \\n', 전체컬럼)"
   ]
  },
  {
   "cell_type": "markdown",
   "metadata": {},
   "source": [
    "## 필요 변수 산정 및 확인(필요 목적에 따라 변수 제거 및 조정 가능)"
   ]
  },
  {
   "cell_type": "code",
   "execution_count": null,
   "metadata": {},
   "outputs": [],
   "source": [
    "점수컬럼 = ['주차장', '건물1', '건물2', '건물3', '관공서', '생산가능인구',\n",
    "       '충전소', '교통량', '유동인구', '거리_충전소', '거리_교통량'] #전기차, 거리_전기차 추후 입력, 데이터 없음\n",
    "\n",
    "print('입력한 점수컬럼명은 다음과 같음\\n', 점수컬럼)\n",
    "가중치 = [1] * len(점수컬럼)"
   ]
  },
  {
   "cell_type": "markdown",
   "metadata": {},
   "source": [
    "# 가중치 설정 및 정규화"
   ]
  },
  {
   "cell_type": "markdown",
   "metadata": {},
   "source": [
    "## 가중치 설정"
   ]
  },
  {
   "cell_type": "code",
   "execution_count": null,
   "metadata": {},
   "outputs": [],
   "source": [
    "# 점수컬럼 순서대로 점수컬럼 갯수 만큼 가중치를 입력\n",
    "가중치 = [1, 1, 2, 3, 3, 1, -3, 1, 1, -3, 1] # 거리_전기차 추후 가중치 추가\n",
    "\n",
    "if(len(가중치) != len(점수컬럼)):\n",
    "    print('입력한 가중치 갯수가 점수컬럼 갯수와 다르므로 확인후 다시 입력 바랍니다')\n",
    "else:\n",
    "    print('다음 줄을 실행 하세요')"
   ]
  },
  {
   "cell_type": "code",
   "execution_count": null,
   "metadata": {},
   "outputs": [],
   "source": [
    "df"
   ]
  },
  {
   "cell_type": "markdown",
   "metadata": {},
   "source": [
    "## 가중치 정규화"
   ]
  },
  {
   "cell_type": "markdown",
   "metadata": {},
   "source": [
    "## MinMax 정규화 진행"
   ]
  },
  {
   "cell_type": "code",
   "execution_count": null,
   "metadata": {},
   "outputs": [],
   "source": [
    "df = pd.read_csv(f'{전처리데이터셋}', header = 0, encoding = 'cp949', engine = 'python')\n",
    "df.set_index('gid', inplace = True)\n",
    "\n",
    "pre_process_set = pd.read_csv('f{전처리데이터셋}', header = 0, encoding = 'cp949', engine = 'python')\n",
    "pre_process_set = pre_process_set.sort_values(by = 'gid')\n",
    "\n",
    "pre_process_set.fillna(0, inplace = True)\n",
    "\n",
    "# MinMax 정규화\n",
    "from sklearn.preprecessing import MinMaxScaler\n",
    "scaler = MinMaxScaler()\n",
    "\n",
    "# 점수 컬럼 정규화\n",
    "norm = pre_process_set.copy()\n",
    "norm.fillna(0, inplace = True)\n",
    "norm.set_index('gid', inplace = True)\n",
    "\n",
    "norm[점수컬럼] = scaler.fit_transform(norm.loc[:, 점수컬럼])\n",
    "norm.reset_index(inplace = True)"
   ]
  },
  {
   "cell_type": "markdown",
   "metadata": {},
   "source": [
    "# 격자별 순위 산정"
   ]
  },
  {
   "cell_type": "markdown",
   "metadata": {},
   "source": [
    "## 총점 계산 및 격자별 순위 산정"
   ]
  },
  {
   "cell_type": "code",
   "execution_count": null,
   "metadata": {},
   "outputs": [],
   "source": [
    "df = norm.copy()\n",
    "#총점 계산\n",
    "for i in range(0, len(점수컬럼)):\n",
    "    name = 점수컬럼[i]\n",
    "    df[name] = df[name] * 가중치[i]\n",
    "    \n",
    "df.set_index(['gid', '주차장', '경도', '위도'], inplace = True)\n",
    "df['sum'] = df.sum(1)\n",
    "df.reset_index(inplace = True)\n",
    "\n",
    "# 등수 계산\n",
    "df['순위'] = df['sum'].rank(method = 'dense', ascending = False).astype(int)\n",
    "\n",
    "final = df.sort_value(by = '순위')\n",
    "final.reset_index(drop = True, inplace =  True)\n",
    "\n",
    "# 상위 20개만 확인\n",
    "display('결과', final.head())\n",
    "\n",
    "# 최종 결과 csv파일쓰기\n",
    "final.to_csv('', index = False, sep = ',', encoding = 'co949')\n"
   ]
  },
  {
   "cell_type": "markdown",
   "metadata": {},
   "source": [
    "# 결과 시각화"
   ]
  },
  {
   "cell_type": "code",
   "execution_count": null,
   "metadata": {},
   "outputs": [],
   "source": [
    "지도보기갯수 = 20\n",
    "import folium\n",
    "print(f'보고자 하는 상위권 갯수는 {지도보기갯수}개 입니다.')\n",
    "\n",
    "for i in range(지도보기갯수):\n",
    "    지도보기 = folium.Map(location = [final.loc[i, '위도'], final.loc[i, '경도']], zoom_start = 15)\n",
    "    folium.Marker([final.loc[i, '위도'], final.loc[i, '경도']]).add_to(지도보기)\n",
    "    print(final.loc[i, '위도'], final.loc[i, '경도'])\n",
    "    j = i + 1\n",
    "    display(f'상위{j}번째 격자의 센터 위치 보기', 지도보기)"
   ]
  }
 ],
 "metadata": {
  "kernelspec": {
   "display_name": "Python 3",
   "language": "python",
   "name": "python3"
  },
  "language_info": {
   "codemirror_mode": {
    "name": "ipython",
    "version": 3
   },
   "file_extension": ".py",
   "mimetype": "text/x-python",
   "name": "python",
   "nbconvert_exporter": "python",
   "pygments_lexer": "ipython3",
   "version": "3.8.3"
  }
 },
 "nbformat": 4,
 "nbformat_minor": 4
}
